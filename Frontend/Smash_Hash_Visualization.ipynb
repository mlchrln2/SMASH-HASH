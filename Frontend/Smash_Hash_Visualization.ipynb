{
 "cells": [
  {
   "cell_type": "code",
   "execution_count": 105,
   "metadata": {},
   "outputs": [],
   "source": [
    "import ipywidgets as wd\n",
    "from vpython import *\n",
    "import csv\n",
    "import h5py\n",
    "import json\n",
    "import os\n",
    "cwd = os.getcwd()\n",
    "from IPython.display import Image\n",
    "test_file = h5py.File('C:\\\\Users\\\\Johnny Tsao\\\\Desktop\\\\hackillinois_2019\\\\dummy-data\\\\test_file.h5', 'r')\n",
    "key_list = list(test_file.keys())"
   ]
  },
  {
   "cell_type": "code",
   "execution_count": null,
   "metadata": {},
   "outputs": [],
   "source": []
  },
  {
   "cell_type": "code",
   "execution_count": 13,
   "metadata": {
    "scrolled": true
   },
   "outputs": [
    {
     "data": {
      "text/html": [
       "<div id=\"glowscript\" class=\"glowscript\"></div>"
      ],
      "text/plain": [
       "<IPython.core.display.HTML object>"
      ]
     },
     "metadata": {},
     "output_type": "display_data"
    },
    {
     "data": {
      "application/javascript": [
       "if (typeof Jupyter !== \"undefined\") { window.__context = { glowscript_container: $(\"#glowscript\").removeAttr(\"id\")};}else{ element.textContent = ' ';}"
      ],
      "text/plain": [
       "<IPython.core.display.Javascript object>"
      ]
     },
     "metadata": {},
     "output_type": "display_data"
    }
   ],
   "source": [
    "test_file = h5py.File('C:\\\\Users\\\\Johnny Tsao\\\\Desktop\\\\hackillinois_2019\\\\dummy-data\\\\test_file.h5', 'r')\n",
    "key_list = list(test_file.keys())\n",
    "data = []\n",
    "#set_list = []\n",
    "print(len(key_list))\n",
    "data = {}  \n",
    " \n",
    "for i in range(len(key_list)):\n",
    "    string = list(test_file.values())[i].name\n",
    "    num = int(string[1:])\n",
    "    data[num] = {}\n",
    "    cur_set = test_file[key_list[i]]\n",
    "    col = cur_set.shape[0]\n",
    "    row = cur_set.shape[1]\n",
    "    it1 = 0\n",
    "    it2 = 0\n",
    "    labels = []\n",
    "    for elem in cur_set[0]:\n",
    "        labels.append(elem)\n",
    "    lables = labels[::-1]\n",
    "    for elem in cur_set[1]:\n",
    "        data[num][labels.pop()] = elem\n",
    "\n"
   ]
  },
  {
   "cell_type": "code",
   "execution_count": 2,
   "metadata": {},
   "outputs": [],
   "source": [
    "from pyvis.network import Network\n"
   ]
  },
  {
   "cell_type": "code",
   "execution_count": 124,
   "metadata": {},
   "outputs": [],
   "source": [
    "from pyvis.network import Network\n",
    "import networkx as nx\n",
    "import ipywidgets as wd\n",
    "from vpython import *\n",
    "import csv\n",
    "import h5py\n",
    "import json\n",
    "import os\n",
    "from IPython.display import Image\n",
    "cwd = os.getcwd()\n",
    "def numToFilename(num):\n",
    "    numString = str(num)\n",
    "    name = cwd + '\\\\dummy-data\\\\' + (12 - len(numString))*'0' + numString + '.jpg'\n",
    "    return name\n",
    "\n",
    "\n",
    "nxg = nx.complete_graph(10)\n",
    "net = Network()\n",
    "\n",
    "test_file = h5py.File('C:\\\\Users\\\\Johnny Tsao\\\\Desktop\\\\hackillinois_2019\\\\dummy-data\\\\test_file.h5', 'r')\n",
    "key_list = list(test_file.keys())\n",
    "vertex_store = []\n",
    "id=0\n",
    "\n",
    "for i in range(len(key_list)):\n",
    "    string = list(test_file.values())[i].name\n",
    "    \n",
    "    num = int(string[1:])\n",
    "    #print(num)\n",
    "    if(not num in vertex_store):\n",
    "        id+=1\n",
    "        vertex_store.append(num)\n",
    "        #print(id, \", \",num)\n",
    "        net.add_node(id, label=None,shape=\"circularImage\", image = numToFilename(101869))\n",
    "    \n",
    "        \n",
    "\n",
    "\n",
    "net.add_node(1, label=None,shape=\"circularImage\", image = numToFilename(12966))\n",
    "\n",
    "net.show(\"mygraph.html\")\n",
    "im = Image(filename=numToFilename(12966))\n",
    "\n"
   ]
  },
  {
   "cell_type": "code",
   "execution_count": null,
   "metadata": {},
   "outputs": [],
   "source": []
  },
  {
   "cell_type": "code",
   "execution_count": null,
   "metadata": {},
   "outputs": [],
   "source": []
  },
  {
   "cell_type": "code",
   "execution_count": 123,
   "metadata": {},
   "outputs": [
    {
     "data": {
      "text/plain": [
       "'000000000009.jpg'"
      ]
     },
     "execution_count": 123,
     "metadata": {},
     "output_type": "execute_result"
    }
   ],
   "source": [
    "import numpy as np\n",
    "hf = h5py.File('C:\\\\Users\\\\Johnny Tsao\\\\Desktop\\\\hackillinois_2019\\\\dummy-data\\\\num_to_image_dict.h5', 'r')\n",
    "keys = list(hf.keys())\n",
    "str(np.core.defchararray.decode(hf[keys[0]]))"
   ]
  },
  {
   "cell_type": "code",
   "execution_count": 83,
   "metadata": {},
   "outputs": [],
   "source": [
    "dict={}\n",
    "for i in range(len(dictKeyList)):\n",
    "    dict[int(dictKeyList[i])]=int(dictValueList[i].name[1:])"
   ]
  },
  {
   "cell_type": "code",
   "execution_count": 98,
   "metadata": {},
   "outputs": [
    {
     "ename": "ValueError",
     "evalue": "Illegal slicing argument for scalar dataspace",
     "output_type": "error",
     "traceback": [
      "\u001b[1;31m---------------------------------------------------------------------------\u001b[0m",
      "\u001b[1;31mValueError\u001b[0m                                Traceback (most recent call last)",
      "\u001b[1;32m<ipython-input-98-e185009810f2>\u001b[0m in \u001b[0;36m<module>\u001b[1;34m()\u001b[0m\n\u001b[1;32m----> 1\u001b[1;33m \u001b[0mdict_file\u001b[0m\u001b[1;33m[\u001b[0m\u001b[0mdictKeyList\u001b[0m\u001b[1;33m[\u001b[0m\u001b[1;36m3\u001b[0m\u001b[1;33m]\u001b[0m\u001b[1;33m]\u001b[0m\u001b[1;33m[\u001b[0m\u001b[1;33m:\u001b[0m\u001b[1;33m]\u001b[0m\u001b[1;33m\u001b[0m\u001b[0m\n\u001b[0m",
      "\u001b[1;32mh5py\\_objects.pyx\u001b[0m in \u001b[0;36mh5py._objects.with_phil.wrapper\u001b[1;34m()\u001b[0m\n",
      "\u001b[1;32mh5py\\_objects.pyx\u001b[0m in \u001b[0;36mh5py._objects.with_phil.wrapper\u001b[1;34m()\u001b[0m\n",
      "\u001b[1;32mC:\\Users\\Johnny Tsao\\Anaconda3\\lib\\site-packages\\h5py\\_hl\\dataset.py\u001b[0m in \u001b[0;36m__getitem__\u001b[1;34m(self, args)\u001b[0m\n\u001b[0;32m    461\u001b[0m         \u001b[1;32mif\u001b[0m \u001b[0mself\u001b[0m\u001b[1;33m.\u001b[0m\u001b[0mshape\u001b[0m \u001b[1;33m==\u001b[0m \u001b[1;33m(\u001b[0m\u001b[1;33m)\u001b[0m\u001b[1;33m:\u001b[0m\u001b[1;33m\u001b[0m\u001b[0m\n\u001b[0;32m    462\u001b[0m             \u001b[0mfspace\u001b[0m \u001b[1;33m=\u001b[0m \u001b[0mself\u001b[0m\u001b[1;33m.\u001b[0m\u001b[0mid\u001b[0m\u001b[1;33m.\u001b[0m\u001b[0mget_space\u001b[0m\u001b[1;33m(\u001b[0m\u001b[1;33m)\u001b[0m\u001b[1;33m\u001b[0m\u001b[0m\n\u001b[1;32m--> 463\u001b[1;33m             \u001b[0mselection\u001b[0m \u001b[1;33m=\u001b[0m \u001b[0msel2\u001b[0m\u001b[1;33m.\u001b[0m\u001b[0mselect_read\u001b[0m\u001b[1;33m(\u001b[0m\u001b[0mfspace\u001b[0m\u001b[1;33m,\u001b[0m \u001b[0margs\u001b[0m\u001b[1;33m)\u001b[0m\u001b[1;33m\u001b[0m\u001b[0m\n\u001b[0m\u001b[0;32m    464\u001b[0m             \u001b[0marr\u001b[0m \u001b[1;33m=\u001b[0m \u001b[0mnumpy\u001b[0m\u001b[1;33m.\u001b[0m\u001b[0mndarray\u001b[0m\u001b[1;33m(\u001b[0m\u001b[0mselection\u001b[0m\u001b[1;33m.\u001b[0m\u001b[0mmshape\u001b[0m\u001b[1;33m,\u001b[0m \u001b[0mdtype\u001b[0m\u001b[1;33m=\u001b[0m\u001b[0mnew_dtype\u001b[0m\u001b[1;33m)\u001b[0m\u001b[1;33m\u001b[0m\u001b[0m\n\u001b[0;32m    465\u001b[0m             \u001b[1;32mfor\u001b[0m \u001b[0mmspace\u001b[0m\u001b[1;33m,\u001b[0m \u001b[0mfspace\u001b[0m \u001b[1;32min\u001b[0m \u001b[0mselection\u001b[0m\u001b[1;33m:\u001b[0m\u001b[1;33m\u001b[0m\u001b[0m\n",
      "\u001b[1;32mC:\\Users\\Johnny Tsao\\Anaconda3\\lib\\site-packages\\h5py\\_hl\\selections2.py\u001b[0m in \u001b[0;36mselect_read\u001b[1;34m(fspace, args)\u001b[0m\n\u001b[0;32m    101\u001b[0m     \"\"\"\n\u001b[0;32m    102\u001b[0m     \u001b[1;32mif\u001b[0m \u001b[0mfspace\u001b[0m\u001b[1;33m.\u001b[0m\u001b[0mshape\u001b[0m \u001b[1;33m==\u001b[0m \u001b[1;33m(\u001b[0m\u001b[1;33m)\u001b[0m\u001b[1;33m:\u001b[0m\u001b[1;33m\u001b[0m\u001b[0m\n\u001b[1;32m--> 103\u001b[1;33m         \u001b[1;32mreturn\u001b[0m \u001b[0mScalarReadSelection\u001b[0m\u001b[1;33m(\u001b[0m\u001b[0mfspace\u001b[0m\u001b[1;33m,\u001b[0m \u001b[0margs\u001b[0m\u001b[1;33m)\u001b[0m\u001b[1;33m\u001b[0m\u001b[0m\n\u001b[0m\u001b[0;32m    104\u001b[0m \u001b[1;33m\u001b[0m\u001b[0m\n\u001b[0;32m    105\u001b[0m     \u001b[1;32mraise\u001b[0m \u001b[0mNotImplementedError\u001b[0m\u001b[1;33m(\u001b[0m\u001b[1;33m)\u001b[0m\u001b[1;33m\u001b[0m\u001b[0m\n",
      "\u001b[1;32mC:\\Users\\Johnny Tsao\\Anaconda3\\lib\\site-packages\\h5py\\_hl\\selections2.py\u001b[0m in \u001b[0;36m__init__\u001b[1;34m(self, fspace, args)\u001b[0m\n\u001b[0;32m     86\u001b[0m             \u001b[0mself\u001b[0m\u001b[1;33m.\u001b[0m\u001b[0mmshape\u001b[0m \u001b[1;33m=\u001b[0m \u001b[1;33m(\u001b[0m\u001b[1;33m)\u001b[0m\u001b[1;33m\u001b[0m\u001b[0m\n\u001b[0;32m     87\u001b[0m         \u001b[1;32melse\u001b[0m\u001b[1;33m:\u001b[0m\u001b[1;33m\u001b[0m\u001b[0m\n\u001b[1;32m---> 88\u001b[1;33m             \u001b[1;32mraise\u001b[0m \u001b[0mValueError\u001b[0m\u001b[1;33m(\u001b[0m\u001b[1;34m\"Illegal slicing argument for scalar dataspace\"\u001b[0m\u001b[1;33m)\u001b[0m\u001b[1;33m\u001b[0m\u001b[0m\n\u001b[0m\u001b[0;32m     89\u001b[0m \u001b[1;33m\u001b[0m\u001b[0m\n\u001b[0;32m     90\u001b[0m         \u001b[0mself\u001b[0m\u001b[1;33m.\u001b[0m\u001b[0mmspace\u001b[0m \u001b[1;33m=\u001b[0m \u001b[0mh5s\u001b[0m\u001b[1;33m.\u001b[0m\u001b[0mcreate\u001b[0m\u001b[1;33m(\u001b[0m\u001b[0mh5s\u001b[0m\u001b[1;33m.\u001b[0m\u001b[0mSCALAR\u001b[0m\u001b[1;33m)\u001b[0m\u001b[1;33m\u001b[0m\u001b[0m\n",
      "\u001b[1;31mValueError\u001b[0m: Illegal slicing argument for scalar dataspace"
     ]
    }
   ],
   "source": [
    "dict_file[dictKeyList[3]][:]"
   ]
  },
  {
   "cell_type": "code",
   "execution_count": 73,
   "metadata": {},
   "outputs": [
    {
     "data": {
      "text/plain": [
       "118287"
      ]
     },
     "execution_count": 73,
     "metadata": {},
     "output_type": "execute_result"
    }
   ],
   "source": [
    "len(dictKeyList)"
   ]
  },
  {
   "cell_type": "code",
   "execution_count": null,
   "metadata": {},
   "outputs": [],
   "source": []
  }
 ],
 "metadata": {
  "kernelspec": {
   "display_name": "VPython",
   "language": "python",
   "name": "vpython"
  },
  "language_info": {
   "codemirror_mode": {
    "name": "ipython",
    "version": 3
   },
   "file_extension": ".py",
   "mimetype": "text/x-python",
   "name": "python",
   "nbconvert_exporter": "python",
   "pygments_lexer": "ipython3",
   "version": "3.6.4"
  }
 },
 "nbformat": 4,
 "nbformat_minor": 2
}
