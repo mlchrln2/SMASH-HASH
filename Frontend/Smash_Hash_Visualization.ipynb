{
 "cells": [
  {
   "cell_type": "code",
   "execution_count": 1,
   "metadata": {},
   "outputs": [
    {
     "data": {
      "application/javascript": [
       "if (typeof Jupyter !== \"undefined\") {require.undef(\"nbextensions/vpython_libraries/glow.min\");}else{element.textContent = ' ';}"
      ],
      "text/plain": [
       "<IPython.core.display.Javascript object>"
      ]
     },
     "metadata": {},
     "output_type": "display_data"
    },
    {
     "data": {
      "application/javascript": [
       "if (typeof Jupyter !== \"undefined\") {require.undef(\"nbextensions/vpython_libraries/glowcomm\");}else{element.textContent = ' ';}"
      ],
      "text/plain": [
       "<IPython.core.display.Javascript object>"
      ]
     },
     "metadata": {},
     "output_type": "display_data"
    },
    {
     "data": {
      "application/javascript": [
       "if (typeof Jupyter !== \"undefined\") {require.undef(\"nbextensions/vpython_libraries/jquery-ui.custom.min\");}else{element.textContent = ' ';}"
      ],
      "text/plain": [
       "<IPython.core.display.Javascript object>"
      ]
     },
     "metadata": {},
     "output_type": "display_data"
    },
    {
     "data": {
      "application/javascript": [
       "if (typeof Jupyter !== \"undefined\") {require([\"nbextensions/vpython_libraries/glow.min\"], function(){console.log(\"GLOW LOADED\");});}else{element.textContent = ' ';}"
      ],
      "text/plain": [
       "<IPython.core.display.Javascript object>"
      ]
     },
     "metadata": {},
     "output_type": "display_data"
    },
    {
     "data": {
      "application/javascript": [
       "if (typeof Jupyter !== \"undefined\") {require([\"nbextensions/vpython_libraries/glowcomm\"], function(){console.log(\"GLOWCOMM LOADED\");});}else{element.textContent = ' ';}"
      ],
      "text/plain": [
       "<IPython.core.display.Javascript object>"
      ]
     },
     "metadata": {},
     "output_type": "display_data"
    },
    {
     "data": {
      "application/javascript": [
       "if (typeof Jupyter !== \"undefined\") {require([\"nbextensions/vpython_libraries/jquery-ui.custom.min\"], function(){console.log(\"JQUERY LOADED\");});}else{element.textContent = ' ';}"
      ],
      "text/plain": [
       "<IPython.core.display.Javascript object>"
      ]
     },
     "metadata": {},
     "output_type": "display_data"
    },
    {
     "data": {
      "text/html": [
       "<div id=\"glowscript\" class=\"glowscript\"></div>"
      ],
      "text/plain": [
       "<IPython.core.display.HTML object>"
      ]
     },
     "metadata": {},
     "output_type": "display_data"
    },
    {
     "data": {
      "application/javascript": [
       "if (typeof Jupyter !== \"undefined\") { window.__context = { glowscript_container: $(\"#glowscript\").removeAttr(\"id\")};}else{ element.textContent = ' ';}"
      ],
      "text/plain": [
       "<IPython.core.display.Javascript object>"
      ]
     },
     "metadata": {},
     "output_type": "display_data"
    },
    {
     "name": "stderr",
     "output_type": "stream",
     "text": [
      "C:\\Users\\Johnny Tsao\\Anaconda3\\lib\\site-packages\\h5py\\__init__.py:36: FutureWarning: Conversion of the second argument of issubdtype from `float` to `np.floating` is deprecated. In future, it will be treated as `np.float64 == np.dtype(float).type`.\n",
      "  from ._conv import register_converters as _register_converters\n"
     ]
    }
   ],
   "source": [
    "import ipywidgets as wd\n",
    "from vpython import *\n",
    "import csv\n",
    "import h5py\n",
    "import json\n",
    "import os\n",
    "cwd = os.getcwd()\n",
    "from IPython.display import Image\n",
    "test_file = h5py.File('C:\\\\Users\\\\Johnny Tsao\\\\Desktop\\\\hackillinois_2019\\\\dummy-data\\\\test_file.h5', 'r')\n",
    "key_list = list(test_file.keys())"
   ]
  },
  {
   "cell_type": "code",
   "execution_count": 5,
   "metadata": {},
   "outputs": [],
   "source": [
    "from pyvis.network import Network\n",
    "import networkx as nx\n",
    "import ipywidgets as wd\n",
    "import numpy as np\n",
    "from vpython import *\n",
    "import csv\n",
    "import h5py\n",
    "import json\n",
    "import os\n",
    "from IPython.display import Image\n",
    "##current working directory\n",
    "cwd = os.getcwd()\n",
    "\n",
    "##main network graph\n",
    "net = Network()\n",
    "\n",
    "##dictionary\n",
    "hf = h5py.File('C:\\\\Users\\\\Johnny Tsao\\\\Desktop\\\\hackillinois_2019\\\\dummy-data\\\\num_to_image_dict.h5', 'r')\n",
    "keys = list(hf.keys())\n",
    "\n",
    "##adjacency list\n",
    "data_file = h5py.File('C:\\\\Users\\\\Johnny Tsao\\\\Desktop\\\\hackillinois_2019\\\\dummy-data\\\\test_file.h5', 'r')\n",
    "dataKeys = list(data_file.keys())\n"
   ]
  },
  {
   "cell_type": "code",
   "execution_count": 6,
   "metadata": {},
   "outputs": [],
   "source": [
    "##storage for vertex to check duplicates\n",
    "vertex_store = []\n",
    "\n",
    "##node id\n",
    "id=0\n",
    "\n",
    "##generate vertices\n",
    "for i in range(len(dataKeys)):\n",
    "    string = list(data_file.values())[i].name\n",
    "    num = int(string[1:])\n",
    "    if(not num in vertex_store):\n",
    "        id+=1\n",
    "        vertex_store.append(num)\n",
    "        #print(id, \", \",num)\n",
    "        net.add_node(id, label=None,shape=\"circularImage\", image = cwd + \"\\\\dummy-data\\\\\" +str(np.core.defchararray.decode(hf[str(num)])))\n",
    "\n",
    "##generate edges (*****not finished yet*****)\n",
    "for i in range(len(key_list)):\n",
    "    string = list(test_file.values())[i].name\n",
    "    num = int(string[1:])\n",
    "    data[num] = {}\n",
    "    cur_set = test_file[key_list[i]]\n",
    "    col = cur_set.shape[0]\n",
    "    row = cur_set.shape[1]\n",
    "    it1 = 0\n",
    "    it2 = 0\n",
    "    labels = []\n",
    "    for elem in cur_set[0]:\n",
    "        labels.append(elem)\n",
    "    lables = labels[::-1]\n",
    "    for elem in cur_set[1]:\n",
    "        data[num][labels.pop()] = elem        \n",
    "\n",
    "        \n",
    "##show network\n",
    "net.show(\"mygraph.html\")\n",
    "\n"
   ]
  },
  {
   "cell_type": "code",
   "execution_count": 123,
   "metadata": {},
   "outputs": [
    {
     "data": {
      "text/plain": [
       "'000000000009.jpg'"
      ]
     },
     "execution_count": 123,
     "metadata": {},
     "output_type": "execute_result"
    }
   ],
   "source": [
    "path = cwd + \"\\\\dummy-data\\\\\" +str(np.core.defchararray.decode(hf[str(101869)]))\n",
    "str(np.core.defchararray.decode(hf[keys[0]]))"
   ]
  }
 ],
 "metadata": {
  "kernelspec": {
   "display_name": "VPython",
   "language": "python",
   "name": "vpython"
  },
  "language_info": {
   "codemirror_mode": {
    "name": "ipython",
    "version": 3
   },
   "file_extension": ".py",
   "mimetype": "text/x-python",
   "name": "python",
   "nbconvert_exporter": "python",
   "pygments_lexer": "ipython3",
   "version": "3.6.4"
  }
 },
 "nbformat": 4,
 "nbformat_minor": 2
}
